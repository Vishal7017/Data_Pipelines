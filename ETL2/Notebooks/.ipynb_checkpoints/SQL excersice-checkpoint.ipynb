{
 "cells": [
  {
   "cell_type": "code",
   "execution_count": null,
   "id": "7f4300eb",
   "metadata": {},
   "outputs": [],
   "source": [
    "import sqlite3\n",
    "import pandas as pd\n",
    "conn = sqlite3.connect('file_name.db')\n",
    "\n",
    "pd.read_sql('SELECT * FROM population_data', conn)"
   ]
  },
  {
   "cell_type": "code",
   "execution_count": null,
   "id": "54fab87e",
   "metadata": {},
   "outputs": [],
   "source": [
    "pd.read_sql('SELECT \"Country_Name\", \"Country_Code\", \"1960\" FROM population_data', conn)"
   ]
  },
  {
   "cell_type": "markdown",
   "id": "2c7ea084",
   "metadata": {},
   "source": [
    "SQLAlchemy and Pandas"
   ]
  },
  {
   "cell_type": "code",
   "execution_count": 1,
   "id": "15d77a32",
   "metadata": {},
   "outputs": [
    {
     "ename": "TypeError",
     "evalue": "read_sql() missing 1 required positional argument: 'con'",
     "output_type": "error",
     "traceback": [
      "\u001b[0;31m---------------------------------------------------------------------------\u001b[0m",
      "\u001b[0;31mTypeError\u001b[0m                                 Traceback (most recent call last)",
      "\u001b[0;32m<ipython-input-1-770da65de699>\u001b[0m in \u001b[0;36m<module>\u001b[0;34m\u001b[0m\n\u001b[1;32m      3\u001b[0m \u001b[0;32mimport\u001b[0m \u001b[0mos\u001b[0m\u001b[0;34m\u001b[0m\u001b[0;34m\u001b[0m\u001b[0m\n\u001b[1;32m      4\u001b[0m \u001b[0mengine\u001b[0m \u001b[0;34m=\u001b[0m \u001b[0mcreate_engine\u001b[0m\u001b[0;34m(\u001b[0m\u001b[0;34m'sqlite:////home/workspace/3_sql_exce.db'\u001b[0m\u001b[0;34m)\u001b[0m\u001b[0;34m\u001b[0m\u001b[0;34m\u001b[0m\u001b[0m\n\u001b[0;32m----> 5\u001b[0;31m \u001b[0mpd\u001b[0m\u001b[0;34m.\u001b[0m\u001b[0mread_sql\u001b[0m\u001b[0;34m(\u001b[0m\u001b[0;34m\"SELECT * F\"\u001b[0m\u001b[0;34m)\u001b[0m\u001b[0;34m\u001b[0m\u001b[0;34m\u001b[0m\u001b[0m\n\u001b[0m",
      "\u001b[0;31mTypeError\u001b[0m: read_sql() missing 1 required positional argument: 'con'"
     ]
    }
   ],
   "source": [
    "import pandas as pd\n",
    "from sqlalchemy import create_engie\n",
    "import os\n",
    "engine = create_engine('sqlite:////home/workspace/3_sql_exce.db')\n",
    "pd.read_sql(\"SELECT * FROM population_data\", engine)"
   ]
  },
  {
   "cell_type": "code",
   "execution_count": null,
   "id": "8bfdc069",
   "metadata": {},
   "outputs": [],
   "source": [
    "import pandas as pd\n",
    "import os\n",
    "form sqlalchemy import create_engine\n",
    "engine = create_engine('sqlite:////home/workspace/3_sql_read.db')\n",
    "pd.read_sql('SELECT \"1961\" - \"1960\" FROM population_data WHERE Country_Name=\"Aruba\"', engine)\n"
   ]
  },
  {
   "cell_type": "code",
   "execution_count": null,
   "id": "1762bbb1",
   "metadata": {},
   "outputs": [],
   "source": [
    "pd.read_sql('SELECT \"Country_Name\",\"1975\" FROM population_data WHERE Country_Name = \"Belgium\" OR Country_Name=\"\"')\n"
   ]
  },
  {
   "cell_type": "code",
   "execution_count": null,
   "id": "50c71b29",
   "metadata": {},
   "outputs": [],
   "source": []
  }
 ],
 "metadata": {
  "kernelspec": {
   "display_name": "Python 3",
   "language": "python",
   "name": "python3"
  },
  "language_info": {
   "codemirror_mode": {
    "name": "ipython",
    "version": 3
   },
   "file_extension": ".py",
   "mimetype": "text/x-python",
   "name": "python",
   "nbconvert_exporter": "python",
   "pygments_lexer": "ipython3",
   "version": "3.8.8"
  }
 },
 "nbformat": 4,
 "nbformat_minor": 5
}
