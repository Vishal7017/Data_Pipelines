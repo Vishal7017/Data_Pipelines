{
 "cells": [
  {
   "cell_type": "code",
   "execution_count": null,
   "id": "138ca8c4",
   "metadata": {},
   "outputs": [],
   "source": [
    "#open file and print lines of json file\n",
    "\n",
    "def print_lines(n, file_name):\n",
    "    f = open(file_name)\n",
    "    for i in range(n):\n",
    "        print(f.readline())\n",
    "    f.close()\n",
    "    \n",
    "print_lines(1, 'population_data.json')"
   ]
  },
  {
   "cell_type": "code",
   "execution_count": null,
   "id": "21baed30",
   "metadata": {},
   "outputs": [],
   "source": [
    "#to pandas\n",
    "import pandas as pd\n",
    "df_json = pd.read_json('./file_name')\n",
    "df_json.head()"
   ]
  },
  {
   "cell_type": "code",
   "execution_count": null,
   "id": "86c041a1",
   "metadata": {},
   "outputs": [],
   "source": [
    "import json\n",
    "with open('file_name.json') as f:\n",
    "    json_data = json.load(f)\n",
    "    \n",
    "print(json_data[0])\n",
    "\n",
    "print(json_data[0]['Country Name'])\n",
    "print(json_data[0]['Country Code'])"
   ]
  },
  {
   "cell_type": "markdown",
   "id": "e4091995",
   "metadata": {},
   "source": [
    "#extracting XML"
   ]
  },
  {
   "cell_type": "code",
   "execution_count": null,
   "id": "202900dd",
   "metadata": {},
   "outputs": [],
   "source": [
    "from bs4 import BeautifulSoup\n",
    "\n",
    "with open(\"population_data.xml\") as fp:\n",
    "    soup = BeautifulSoup(fp, \"lmxl\")"
   ]
  },
  {
   "cell_type": "code",
   "execution_count": null,
   "id": "272819f6",
   "metadata": {},
   "outputs": [],
   "source": [
    "i = 0\n",
    "for record in soup.find_all('record'):\n",
    "    i += 1\n",
    "    for record in record_find_all('field'):\n",
    "        print(record['name'], ': ', record.text)\n",
    "    print()\n",
    "    if i == 5:\n",
    "        break"
   ]
  },
  {
   "cell_type": "code",
   "execution_count": null,
   "id": "dbab0f77",
   "metadata": {},
   "outputs": [],
   "source": []
  },
  {
   "cell_type": "code",
   "execution_count": null,
   "id": "3c1cd048",
   "metadata": {},
   "outputs": [],
   "source": [
    "data_dictionary = {'Country or Area': [], 'Year':[], 'Item':[], 'Value':[]}\n",
    "for record in soup.find_all('record'):\n",
    "    for record in record.find_all('field'):\n",
    "        data_dictionary[record['name']].append(record.text)\n",
    "\n",
    "df = pd.DataFrame.from_dict(data_dictionary)\n",
    "df = df.pivot(index='Country or Area', columns='Year', values='Value')\n",
    "df.reset_index(level=0, inplace=True)"
   ]
  }
 ],
 "metadata": {
  "kernelspec": {
   "display_name": "Python 3",
   "language": "python",
   "name": "python3"
  },
  "language_info": {
   "codemirror_mode": {
    "name": "ipython",
    "version": 3
   },
   "file_extension": ".py",
   "mimetype": "text/x-python",
   "name": "python",
   "nbconvert_exporter": "python",
   "pygments_lexer": "ipython3",
   "version": "3.8.8"
  }
 },
 "nbformat": 4,
 "nbformat_minor": 5
}
