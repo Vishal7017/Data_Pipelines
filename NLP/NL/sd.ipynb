{
 "cells": [
  {
   "cell_type": "code",
   "execution_count": 1,
   "id": "95a60e06",
   "metadata": {},
   "outputs": [
    {
     "name": "stdout",
     "output_type": "stream",
     "text": [
      "Requirement already satisfied: lxml in /Users/mozmar/opt/anaconda3/lib/python3.8/site-packages (4.6.1)\r\n"
     ]
    }
   ],
   "source": [
    "import requests\n",
    "from bs4 import BeautifulSoup\n",
    "!pip install lxml"
   ]
  },
  {
   "cell_type": "code",
   "execution_count": 2,
   "id": "af9469a1",
   "metadata": {},
   "outputs": [],
   "source": [
    "r = requests.get(\"https://prefeitura.pbh.gov.br/saude/licitacao/pregao-eletronico-151-2020\")"
   ]
  },
  {
   "cell_type": "code",
   "execution_count": 3,
   "id": "013d8550",
   "metadata": {},
   "outputs": [],
   "source": [
    "soup = BeautifulSoup(r.text, \"lxml\")"
   ]
  },
  {
   "cell_type": "code",
   "execution_count": 4,
   "id": "03d0ac10",
   "metadata": {},
   "outputs": [],
   "source": [
    "summaries = soup.find_all(\"span\", {\"class\":\"lbl-licitacao\"})\n"
   ]
  },
  {
   "cell_type": "code",
   "execution_count": 5,
   "id": "b3b96786",
   "metadata": {},
   "outputs": [
    {
     "name": "stdout",
     "output_type": "stream",
     "text": [
      "[<span class=\"col-sm-6 lbl-licitacao\"><span>DATA DA PUBLICAÇÃO: </span>02/02/2021</span>, <span class=\"lbl-licitacao\"><span>OBJETO:</span></span>, <span class=\"lbl-licitacao\"><span>INFORMAÇÕES COMPLEMENTARES:</span></span>, <span class=\"col-sm-6 lbl-licitacao\"><span>MODALIDADE: </span>Pregão Eletrônico</span>, <span class=\"col-sm-6 lbl-licitacao\"><span>SITUAÇÃO: </span>Homologado</span>, <span class=\"col-sm-6 lbl-licitacao\"><span>DATA DA LICITAÇÃO: </span>18/02/2021</span>, <span class=\"lbl-licitacao\"><span>HISTÓRICO:</span></span>]\n"
     ]
    }
   ],
   "source": [
    "print(summaries)"
   ]
  },
  {
   "cell_type": "code",
   "execution_count": null,
   "id": "63ee9179",
   "metadata": {},
   "outputs": [],
   "source": []
  }
 ],
 "metadata": {
  "kernelspec": {
   "display_name": "Python 3",
   "language": "python",
   "name": "python3"
  },
  "language_info": {
   "codemirror_mode": {
    "name": "ipython",
    "version": 3
   },
   "file_extension": ".py",
   "mimetype": "text/x-python",
   "name": "python",
   "nbconvert_exporter": "python",
   "pygments_lexer": "ipython3",
   "version": "3.8.8"
  }
 },
 "nbformat": 4,
 "nbformat_minor": 5
}
